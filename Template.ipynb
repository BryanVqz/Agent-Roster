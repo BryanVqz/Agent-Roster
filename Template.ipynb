{
  "nbformat": 4,
  "nbformat_minor": 0,
  "metadata": {
    "colab": {
      "provenance": [],
      "toc_visible": true,
      "authorship_tag": "ABX9TyOJasJQBkFruIdwgiHMsor+",
      "include_colab_link": true
    },
    "kernelspec": {
      "name": "python3",
      "display_name": "Python 3"
    },
    "language_info": {
      "name": "python"
    }
  },
  "cells": [
    {
      "cell_type": "markdown",
      "metadata": {
        "id": "view-in-github",
        "colab_type": "text"
      },
      "source": [
        "<a href=\"https://colab.research.google.com/github/BryanVqz/Agent-Roster/blob/main/Template.ipynb\" target=\"_parent\"><img src=\"https://colab.research.google.com/assets/colab-badge.svg\" alt=\"Open In Colab\"/></a>"
      ]
    },
    {
      "cell_type": "markdown",
      "source": [
        "# **SNOWFLAKE**\n",
        "---\n",
        "```\n",
        "  01 - Loading Data\n",
        "  02 - Title\n",
        "  03 - DSA\n",
        "```\n",
        "\n",
        "\n"
      ],
      "metadata": {
        "id": "-_8TzbmXtdjx"
      }
    },
    {
      "cell_type": "markdown",
      "source": [
        "## **Loading Data**"
      ],
      "metadata": {
        "id": "mPQSdyxluFBB"
      }
    },
    {
      "cell_type": "code",
      "source": [
        "# -- Create database\n",
        "# create database EXERCISE_DB;\n",
        "\n",
        "# -- Create table\n",
        "# create or replace table customers(\n",
        "#   customer_id int,\n",
        "#   first_name varchar,\n",
        "#   last_name varchar,\n",
        "#   email varchar,\n",
        "#   age int,\n",
        "#   city varchar\n",
        "#   )\n",
        "\n",
        "# -- Load data\n",
        "# copy into customers\n",
        "#   from s3://snowflake-assignments-mc/gettingstarted/customers.csv\n",
        "#   file_format = (\n",
        "#     type = csv\n",
        "#     field_delimiter = ','\n",
        "#     skip_header = 1);\n",
        "\n",
        "\n",
        "# SELECT * FROM customers;"
      ],
      "metadata": {
        "id": "QcJc8DYe17wQ"
      },
      "execution_count": null,
      "outputs": []
    },
    {
      "cell_type": "code",
      "source": [
        "                    CREATE A STAGE\n",
        "\n",
        "//Database to manage stage objects, fileformats etc.\n",
        "CREATE OR REPLACE DATABASE MANAGE_DB;\n",
        "\n",
        "CREATE OR REPLACE SCHEMA external_stages;\n",
        "\n",
        "\n",
        "// Creating external stage\n",
        "CREATE OR REPLACE STAGE MANAGE_DB.external_stages.aws_stage\n",
        "    url='s3://bucketsnowflakes3'\n",
        "    credentials=(aws_key_id='ABCD_DUMMY_ID' aws_secret_key='1234abcd_key');\n",
        "\n",
        "\n",
        "// Description of external stage\n",
        "DESC STAGE MANAGE_DB.external_stages.aws_stage;\n",
        "\n",
        "\n",
        "// Alter external stage\n",
        "ALTER STAGE aws_stage\n",
        "    SET credentials=(aws_key_id='XYZ_DUMMY_ID' aws_secret_key='987xyz');\n",
        "\n",
        "\n",
        "// Publicly accessible staging area\n",
        "CREATE OR REPLACE STAGE MANAGE_DB.external_stages.aws_stage\n",
        "    url='s3://bucketsnowflakes3';\n",
        "\n",
        "// List files in stage\n",
        "LIST @aws_stage;\n",
        "\n",
        "//Load data using copy command\n",
        "COPY INTO OUR_FIRST_DB.PUBLIC.ORDERS\n",
        "    FROM @aws_stage\n",
        "    file_format= (type = csv field_delimiter=',' skip_header=1)\n",
        "    pattern='.*Order.*';\n",
        "\n",
        "\n",
        "\n",
        "---- Assignment solution - Create stage & load data ----\n",
        "\n",
        "-- create stage object\n",
        "CREATE OR REPLACE STAGE EXERCISE_DB.public.aws_stage\n",
        "    url='s3://snowflake-assignments-mc/loadingdata';\n",
        "\n",
        "-- List files in stage\n",
        "LIST @EXERCISE_DB.public.aws_stage;\n",
        "\n",
        "-- Load the data\n",
        "COPY INTO EXERCISE_DB.PUBLIC.CUSTOMERS\n",
        "    FROM @aws_stage\n",
        "    file_format= (type = csv field_delimiter=';' skip_header=1)"
      ],
      "metadata": {
        "id": "Xci60DlxvBIc"
      },
      "execution_count": null,
      "outputs": []
    }
  ]
}